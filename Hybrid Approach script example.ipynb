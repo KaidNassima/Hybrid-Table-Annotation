{
 "cells": [
  {
   "cell_type": "code",
   "execution_count": 1,
   "metadata": {},
   "outputs": [
    {
     "name": "stderr",
     "output_type": "stream",
     "text": [
      "c:\\Users\\malek\\AppData\\Local\\Programs\\Python\\Python310\\lib\\site-packages\\tqdm\\auto.py:21: TqdmWarning: IProgress not found. Please update jupyter and ipywidgets. See https://ipywidgets.readthedocs.io/en/stable/user_install.html\n",
      "  from .autonotebook import tqdm as notebook_tqdm\n"
     ]
    }
   ],
   "source": [
    "import os\n",
    "import pandas as pd\n",
    "import networkx as nx\n",
    "import matplotlib.pyplot as plt\n",
    "from collections import defaultdict, Counter\n",
    "from SPARQLWrapper import SPARQLWrapper, JSON\n",
    "import argparse\n",
    "import json\n",
    "\n",
    "import pickle\n",
    "import csv\n",
    "\n",
    "from torch.utils.data import Dataset\n",
    "import joblib\n",
    "from transformers import RobertaTokenizer, RobertaForSequenceClassification\n",
    "import torch\n",
    "\n"
   ]
  },
  {
   "cell_type": "code",
   "execution_count": 2,
   "metadata": {},
   "outputs": [],
   "source": [
    "import importlib\n",
    "import fonctionUtiles as fU\n",
    "import Annotate\n"
   ]
  },
  {
   "cell_type": "code",
   "execution_count": null,
   "metadata": {},
   "outputs": [],
   "source": [
    "test_table=\"path to/artifacts/CTA_data_test/film_locations_in_san_francisco_5.csv\"\n",
    "\n",
    "# df = pd.read_json(\"path to /Benchmark/CPA_Test/Test/CreativeWork_abcdinamo.com_September2020_CPA.json.gz\", compression='gzip', lines=True)\n"
   ]
  },
  {
   "cell_type": "code",
   "execution_count": null,
   "metadata": {},
   "outputs": [],
   "source": [
    "df=pd.read_csv(test_table)\n",
    "df"
   ]
  },
  {
   "cell_type": "markdown",
   "metadata": {
    "vscode": {
     "languageId": "latex"
    }
   },
   "source": [
    " PARTIE 1 : Column type Annotation  "
   ]
  },
  {
   "cell_type": "markdown",
   "metadata": {},
   "source": [
    "A) KB_annotator /YAGO"
   ]
  },
  {
   "cell_type": "code",
   "execution_count": 6,
   "metadata": {},
   "outputs": [],
   "source": [
    "KB_annotations =Annotate.extract_column_types_with_yago(df)"
   ]
  },
  {
   "cell_type": "code",
   "execution_count": 7,
   "metadata": {},
   "outputs": [
    {
     "data": {
      "text/plain": [
       "{0: [('http://yago-knowledge.org/resource/Art_gallery', 1),\n",
       "  ('http://yago-knowledge.org/resource/Art_museum', 1),\n",
       "  ('http://yago-knowledge.org/resource/Memory_institution', 1)],\n",
       " 2: [('http://yago-knowledge.org/resource/Art_gallery', 1),\n",
       "  ('http://yago-knowledge.org/resource/Art_museum', 1),\n",
       "  ('http://yago-knowledge.org/resource/Memory_institution', 1)],\n",
       " 4: [],\n",
       " 5: [],\n",
       " 6: [],\n",
       " 8: [],\n",
       " 9: []}"
      ]
     },
     "execution_count": 7,
     "metadata": {},
     "output_type": "execute_result"
    }
   ],
   "source": [
    "KB_annotations"
   ]
  },
  {
   "cell_type": "markdown",
   "metadata": {},
   "source": [
    "2) LM annotator"
   ]
  },
  {
   "cell_type": "code",
   "execution_count": 8,
   "metadata": {},
   "outputs": [],
   "source": [
    "LM_annotations=Annotate.predict_column_types_with_LM(df)"
   ]
  },
  {
   "cell_type": "code",
   "execution_count": 9,
   "metadata": {},
   "outputs": [
    {
     "data": {
      "text/plain": [
       "{0: 'Text',\n",
       " 1: 'DateTime',\n",
       " 2: 'Text',\n",
       " 3: 'DateTime',\n",
       " 4: 'Text',\n",
       " 5: 'Language',\n",
       " 6: 'email',\n",
       " 7: 'telephone',\n",
       " 8: 'Hotel',\n",
       " 9: 'Hotel',\n",
       " 10: 'Integer'}"
      ]
     },
     "execution_count": 9,
     "metadata": {},
     "output_type": "execute_result"
    }
   ],
   "source": [
    "LM_annotations"
   ]
  },
  {
   "cell_type": "markdown",
   "metadata": {},
   "source": [
    "3) Merging CTA\n"
   ]
  },
  {
   "cell_type": "code",
   "execution_count": 10,
   "metadata": {},
   "outputs": [
    {
     "name": "stdout",
     "output_type": "stream",
     "text": [
      "[0] Aucun lien hiérarchique entre LM (text) et KB (art_gallery) → on garde les deux\n",
      "[0] Aucun lien hiérarchique entre LM (text) et KB (art_museum) → on garde les deux\n",
      "[0] Aucun lien hiérarchique entre LM (text) et KB (memory_institution) → on garde les deux\n",
      "[0] Type LM (Text) retenu dans la fusion\n",
      "[1] Aucun type KB → on garde le type LM : DateTime\n",
      "[2] Aucun lien hiérarchique entre LM (text) et KB (art_gallery) → on garde les deux\n",
      "[2] Aucun lien hiérarchique entre LM (text) et KB (art_museum) → on garde les deux\n",
      "[2] Aucun lien hiérarchique entre LM (text) et KB (memory_institution) → on garde les deux\n",
      "[2] Type LM (Text) retenu dans la fusion\n",
      "[3] Aucun type KB → on garde le type LM : DateTime\n",
      "[4] Aucun type KB → on garde le type LM : Text\n",
      "[5] Aucun type KB → on garde le type LM : Language\n",
      "[6] Aucun type KB → on garde le type LM : email\n",
      "[7] Aucun type KB → on garde le type LM : telephone\n",
      "[8] Aucun type KB → on garde le type LM : Hotel\n",
      "[9] Aucun type KB → on garde le type LM : Hotel\n",
      "[10] Aucun type KB → on garde le type LM : Integer\n"
     ]
    }
   ],
   "source": [
    "types_final= Annotate.fusion_annotations(LM_annotations,KB_annotations)"
   ]
  },
  {
   "cell_type": "code",
   "execution_count": 11,
   "metadata": {},
   "outputs": [
    {
     "data": {
      "text/plain": [
       "{0: ['http://yago-knowledge.org/resource/Memory_institution',\n",
       "  'http://yago-knowledge.org/resource/Art_gallery',\n",
       "  'http://yago-knowledge.org/resource/Art_museum',\n",
       "  'Text'],\n",
       " 1: ['DateTime'],\n",
       " 2: ['http://yago-knowledge.org/resource/Memory_institution',\n",
       "  'http://yago-knowledge.org/resource/Art_gallery',\n",
       "  'http://yago-knowledge.org/resource/Art_museum',\n",
       "  'Text'],\n",
       " 3: ['DateTime'],\n",
       " 4: ['Text'],\n",
       " 5: ['Language'],\n",
       " 6: ['email'],\n",
       " 7: ['telephone'],\n",
       " 8: ['Hotel'],\n",
       " 9: ['Hotel'],\n",
       " 10: ['Integer']}"
      ]
     },
     "execution_count": 11,
     "metadata": {},
     "output_type": "execute_result"
    }
   ],
   "source": [
    "types_final"
   ]
  },
  {
   "cell_type": "markdown",
   "metadata": {},
   "source": [
    "PARTIE 2 : Column Property Annotation"
   ]
  },
  {
   "cell_type": "markdown",
   "metadata": {},
   "source": [
    "1) LM annotator\n",
    "\n"
   ]
  },
  {
   "cell_type": "code",
   "execution_count": null,
   "metadata": {},
   "outputs": [],
   "source": [
    "# choose the main column for annotation\n",
    "# intent_col_name='Title'\n",
    "# main_col_index = df.columns.get_loc(intent_col_name)\n",
    "main_col_index= 0"
   ]
  },
  {
   "cell_type": "code",
   "execution_count": 13,
   "metadata": {},
   "outputs": [
    {
     "name": "stderr",
     "output_type": "stream",
     "text": [
      "c:\\Users\\AppData\\Local\\Programs\\Python\\Python310\\lib\\site-packages\\sklearn\\base.py:376: InconsistentVersionWarning: Trying to unpickle estimator LabelEncoder from version 1.5.2 when using version 1.5.0. This might lead to breaking code or invalid results. Use at your own risk. For more info please refer to:\n",
      "https://scikit-learn.org/stable/model_persistence.html#security-maintainability-limitations\n",
      "  warnings.warn(\n"
     ]
    }
   ],
   "source": [
    "LM_relationships = Annotate.discover_column_relationships_with_LM(df,main_col_index)"
   ]
  },
  {
   "cell_type": "code",
   "execution_count": 14,
   "metadata": {},
   "outputs": [
    {
     "data": {
      "text/plain": [
       "[{'column_1_index': 0,\n",
       "  'column_2_index': 1,\n",
       "  'predicted_label': 'releaseDate',\n",
       "  'predicted_probability': 0.99231416},\n",
       " {'column_1_index': 0,\n",
       "  'column_2_index': 2,\n",
       "  'predicted_label': 'headline',\n",
       "  'predicted_probability': 0.992307},\n",
       " {'column_1_index': 0,\n",
       "  'column_2_index': 3,\n",
       "  'predicted_label': 'releaseDate',\n",
       "  'predicted_probability': 0.5015146},\n",
       " {'column_1_index': 0,\n",
       "  'column_2_index': 4,\n",
       "  'predicted_label': 'description',\n",
       "  'predicted_probability': 0.99784076},\n",
       " {'column_1_index': 0,\n",
       "  'column_2_index': 5,\n",
       "  'predicted_label': 'inLanguage',\n",
       "  'predicted_probability': 0.99853206},\n",
       " {'column_1_index': 0,\n",
       "  'column_2_index': 6,\n",
       "  'predicted_label': 'email',\n",
       "  'predicted_probability': 0.9998698},\n",
       " {'column_1_index': 0,\n",
       "  'column_2_index': 7,\n",
       "  'predicted_label': 'telephone',\n",
       "  'predicted_probability': 0.99989283},\n",
       " {'column_1_index': 0,\n",
       "  'column_2_index': 8,\n",
       "  'predicted_label': 'brand',\n",
       "  'predicted_probability': 0.99916065},\n",
       " {'column_1_index': 0,\n",
       "  'column_2_index': 9,\n",
       "  'predicted_label': 'brand',\n",
       "  'predicted_probability': 0.99916065},\n",
       " {'column_1_index': 0,\n",
       "  'column_2_index': 10,\n",
       "  'predicted_label': 'copyrightYear',\n",
       "  'predicted_probability': 0.6773884}]"
      ]
     },
     "execution_count": 14,
     "metadata": {},
     "output_type": "execute_result"
    }
   ],
   "source": [
    "LM_relationships"
   ]
  },
  {
   "cell_type": "markdown",
   "metadata": {},
   "source": [
    "2) KB annotator instance level"
   ]
  },
  {
   "cell_type": "code",
   "execution_count": 15,
   "metadata": {},
   "outputs": [
    {
     "name": "stdout",
     "output_type": "stream",
     "text": [
      "\n",
      "Relations pour la paire ('0','2') (paires valides: 0):\n",
      "\n",
      "Relations pour la paire ('0','4') (paires valides: 0):\n",
      "\n",
      "Relations pour la paire ('0','5') (paires valides: 0):\n",
      "\n",
      "Relations pour la paire ('0','6') (paires valides: 0):\n",
      "\n",
      "Relations pour la paire ('0','8') (paires valides: 0):\n",
      "\n",
      "Relations pour la paire ('0','9') (paires valides: 0):\n"
     ]
    }
   ],
   "source": [
    "KB_relationships= Annotate.extract_column_relations_with_KB_I(df,0) "
   ]
  },
  {
   "cell_type": "code",
   "execution_count": 16,
   "metadata": {},
   "outputs": [
    {
     "data": {
      "text/plain": [
       "defaultdict(dict,\n",
       "            {(0, 2): {},\n",
       "             (0, 4): {},\n",
       "             (0, 5): {},\n",
       "             (0, 6): {},\n",
       "             (0, 8): {},\n",
       "             (0, 9): {}})"
      ]
     },
     "execution_count": 16,
     "metadata": {},
     "output_type": "execute_result"
    }
   ],
   "source": [
    "KB_relationships"
   ]
  },
  {
   "cell_type": "markdown",
   "metadata": {},
   "source": [
    "3) KB annotator type level\n"
   ]
  },
  {
   "cell_type": "code",
   "execution_count": 17,
   "metadata": {},
   "outputs": [
    {
     "name": "stdout",
     "output_type": "stream",
     "text": [
      "Querying relation between [http://yago-knowledge.org/resource/Memory_institution]and [DateTime]...\n",
      "Querying relation between [http://yago-knowledge.org/resource/Art_gallery]and [DateTime]...\n",
      "Querying relation between [http://yago-knowledge.org/resource/Art_museum]and [DateTime]...\n",
      "Querying relation between [Text]and [DateTime]...\n",
      "\n",
      "Relations trouvées pour (0, 1) :\n",
      "Querying relation between [http://yago-knowledge.org/resource/Memory_institution]and [http://yago-knowledge.org/resource/Memory_institution]...\n",
      "Querying relation between [http://yago-knowledge.org/resource/Memory_institution]and [http://yago-knowledge.org/resource/Art_gallery]...\n",
      "Querying relation between [http://yago-knowledge.org/resource/Memory_institution]and [http://yago-knowledge.org/resource/Art_museum]...\n",
      "Querying relation between [http://yago-knowledge.org/resource/Memory_institution]and [Text]...\n",
      "Querying relation between [http://yago-knowledge.org/resource/Art_gallery]and [http://yago-knowledge.org/resource/Memory_institution]...\n",
      "Querying relation between [http://yago-knowledge.org/resource/Art_gallery]and [http://yago-knowledge.org/resource/Art_gallery]...\n",
      "Querying relation between [http://yago-knowledge.org/resource/Art_gallery]and [http://yago-knowledge.org/resource/Art_museum]...\n",
      "Querying relation between [http://yago-knowledge.org/resource/Art_gallery]and [Text]...\n",
      "Querying relation between [http://yago-knowledge.org/resource/Art_museum]and [http://yago-knowledge.org/resource/Memory_institution]...\n",
      "Querying relation between [http://yago-knowledge.org/resource/Art_museum]and [http://yago-knowledge.org/resource/Art_gallery]...\n",
      "Querying relation between [http://yago-knowledge.org/resource/Art_museum]and [http://yago-knowledge.org/resource/Art_museum]...\n",
      "Querying relation between [http://yago-knowledge.org/resource/Art_museum]and [Text]...\n",
      "Querying relation between [Text]and [http://yago-knowledge.org/resource/Memory_institution]...\n",
      "Querying relation between [Text]and [http://yago-knowledge.org/resource/Art_gallery]...\n",
      "Querying relation between [Text]and [http://yago-knowledge.org/resource/Art_museum]...\n",
      "Querying relation between [Text]and [Text]...\n",
      "\n",
      "Relations trouvées pour (0, 2) :\n",
      "  http://schema.org/location: 0.750 (types: http://yago-knowledge.org/resource/Art_museum ↔ http://yago-knowledge.org/resource/Art_gallery; http://yago-knowledge.org/resource/Art_museum ↔ http://yago-knowledge.org/resource/Art_museum; http://yago-knowledge.org/resource/Art_gallery ↔ http://yago-knowledge.org/resource/Art_museum)\n",
      "  http://schema.org/ownedBy: 0.250 (types: http://yago-knowledge.org/resource/Art_museum ↔ http://yago-knowledge.org/resource/Art_museum)\n",
      "Querying relation between [http://yago-knowledge.org/resource/Memory_institution]and [DateTime]...\n",
      "Querying relation between [http://yago-knowledge.org/resource/Art_gallery]and [DateTime]...\n",
      "Querying relation between [http://yago-knowledge.org/resource/Art_museum]and [DateTime]...\n",
      "Querying relation between [Text]and [DateTime]...\n",
      "\n",
      "Relations trouvées pour (0, 3) :\n",
      "Querying relation between [http://yago-knowledge.org/resource/Memory_institution]and [Text]...\n",
      "Querying relation between [http://yago-knowledge.org/resource/Art_gallery]and [Text]...\n",
      "Querying relation between [http://yago-knowledge.org/resource/Art_museum]and [Text]...\n",
      "Querying relation between [Text]and [Text]...\n",
      "\n",
      "Relations trouvées pour (0, 4) :\n",
      "Querying relation between [http://yago-knowledge.org/resource/Memory_institution]and [Language]...\n",
      "Querying relation between [http://yago-knowledge.org/resource/Art_gallery]and [Language]...\n",
      "Querying relation between [http://yago-knowledge.org/resource/Art_museum]and [Language]...\n",
      "Querying relation between [Text]and [Language]...\n",
      "\n",
      "Relations trouvées pour (0, 5) :\n",
      "Querying relation between [http://yago-knowledge.org/resource/Memory_institution]and [email]...\n",
      "Querying relation between [http://yago-knowledge.org/resource/Art_gallery]and [email]...\n",
      "Querying relation between [http://yago-knowledge.org/resource/Art_museum]and [email]...\n",
      "Querying relation between [Text]and [email]...\n",
      "\n",
      "Relations trouvées pour (0, 6) :\n",
      "Querying relation between [http://yago-knowledge.org/resource/Memory_institution]and [telephone]...\n",
      "Querying relation between [http://yago-knowledge.org/resource/Art_gallery]and [telephone]...\n",
      "Querying relation between [http://yago-knowledge.org/resource/Art_museum]and [telephone]...\n",
      "Querying relation between [Text]and [telephone]...\n",
      "\n",
      "Relations trouvées pour (0, 7) :\n",
      "Querying relation between [http://yago-knowledge.org/resource/Memory_institution]and [Hotel]...\n",
      "Querying relation between [http://yago-knowledge.org/resource/Art_gallery]and [Hotel]...\n",
      "Querying relation between [http://yago-knowledge.org/resource/Art_museum]and [Hotel]...\n",
      "Querying relation between [Text]and [Hotel]...\n",
      "\n",
      "Relations trouvées pour (0, 8) :\n",
      "Querying relation between [http://yago-knowledge.org/resource/Memory_institution]and [Hotel]...\n",
      "Querying relation between [http://yago-knowledge.org/resource/Art_gallery]and [Hotel]...\n",
      "Querying relation between [http://yago-knowledge.org/resource/Art_museum]and [Hotel]...\n",
      "Querying relation between [Text]and [Hotel]...\n",
      "\n",
      "Relations trouvées pour (0, 9) :\n",
      "Querying relation between [http://yago-knowledge.org/resource/Memory_institution]and [Integer]...\n",
      "Querying relation between [http://yago-knowledge.org/resource/Art_gallery]and [Integer]...\n",
      "Querying relation between [http://yago-knowledge.org/resource/Art_museum]and [Integer]...\n",
      "Querying relation between [Text]and [Integer]...\n",
      "\n",
      "Relations trouvées pour (0, 10) :\n",
      "Querying relation between [DateTime]and [http://yago-knowledge.org/resource/Memory_institution]...\n",
      "Querying relation between [DateTime]and [http://yago-knowledge.org/resource/Art_gallery]...\n",
      "Querying relation between [DateTime]and [http://yago-knowledge.org/resource/Art_museum]...\n",
      "Querying relation between [DateTime]and [Text]...\n",
      "\n",
      "Relations trouvées pour (1, 2) :\n",
      "Querying relation between [DateTime]and [DateTime]...\n",
      "\n",
      "Relations trouvées pour (1, 3) :\n",
      "Querying relation between [DateTime]and [Text]...\n",
      "\n",
      "Relations trouvées pour (1, 4) :\n",
      "Querying relation between [DateTime]and [Language]...\n",
      "\n",
      "Relations trouvées pour (1, 5) :\n",
      "Querying relation between [DateTime]and [email]...\n",
      "\n",
      "Relations trouvées pour (1, 6) :\n",
      "Querying relation between [DateTime]and [telephone]...\n",
      "\n",
      "Relations trouvées pour (1, 7) :\n",
      "Querying relation between [DateTime]and [Hotel]...\n",
      "\n",
      "Relations trouvées pour (1, 8) :\n",
      "Querying relation between [DateTime]and [Hotel]...\n",
      "\n",
      "Relations trouvées pour (1, 9) :\n",
      "Querying relation between [DateTime]and [Integer]...\n",
      "\n",
      "Relations trouvées pour (1, 10) :\n",
      "Querying relation between [http://yago-knowledge.org/resource/Memory_institution]and [DateTime]...\n",
      "Querying relation between [http://yago-knowledge.org/resource/Art_gallery]and [DateTime]...\n",
      "Querying relation between [http://yago-knowledge.org/resource/Art_museum]and [DateTime]...\n",
      "Querying relation between [Text]and [DateTime]...\n",
      "\n",
      "Relations trouvées pour (2, 3) :\n",
      "Querying relation between [http://yago-knowledge.org/resource/Memory_institution]and [Text]...\n",
      "Querying relation between [http://yago-knowledge.org/resource/Art_gallery]and [Text]...\n",
      "Querying relation between [http://yago-knowledge.org/resource/Art_museum]and [Text]...\n",
      "Querying relation between [Text]and [Text]...\n",
      "\n",
      "Relations trouvées pour (2, 4) :\n",
      "Querying relation between [http://yago-knowledge.org/resource/Memory_institution]and [Language]...\n",
      "Querying relation between [http://yago-knowledge.org/resource/Art_gallery]and [Language]...\n",
      "Querying relation between [http://yago-knowledge.org/resource/Art_museum]and [Language]...\n",
      "Querying relation between [Text]and [Language]...\n",
      "\n",
      "Relations trouvées pour (2, 5) :\n",
      "Querying relation between [http://yago-knowledge.org/resource/Memory_institution]and [email]...\n",
      "Querying relation between [http://yago-knowledge.org/resource/Art_gallery]and [email]...\n",
      "Querying relation between [http://yago-knowledge.org/resource/Art_museum]and [email]...\n",
      "Querying relation between [Text]and [email]...\n",
      "\n",
      "Relations trouvées pour (2, 6) :\n",
      "Querying relation between [http://yago-knowledge.org/resource/Memory_institution]and [telephone]...\n",
      "Querying relation between [http://yago-knowledge.org/resource/Art_gallery]and [telephone]...\n",
      "Querying relation between [http://yago-knowledge.org/resource/Art_museum]and [telephone]...\n",
      "Querying relation between [Text]and [telephone]...\n",
      "\n",
      "Relations trouvées pour (2, 7) :\n",
      "Querying relation between [http://yago-knowledge.org/resource/Memory_institution]and [Hotel]...\n",
      "Querying relation between [http://yago-knowledge.org/resource/Art_gallery]and [Hotel]...\n",
      "Querying relation between [http://yago-knowledge.org/resource/Art_museum]and [Hotel]...\n",
      "Querying relation between [Text]and [Hotel]...\n",
      "\n",
      "Relations trouvées pour (2, 8) :\n",
      "Querying relation between [http://yago-knowledge.org/resource/Memory_institution]and [Hotel]...\n",
      "Querying relation between [http://yago-knowledge.org/resource/Art_gallery]and [Hotel]...\n",
      "Querying relation between [http://yago-knowledge.org/resource/Art_museum]and [Hotel]...\n",
      "Querying relation between [Text]and [Hotel]...\n",
      "\n",
      "Relations trouvées pour (2, 9) :\n",
      "Querying relation between [http://yago-knowledge.org/resource/Memory_institution]and [Integer]...\n",
      "Querying relation between [http://yago-knowledge.org/resource/Art_gallery]and [Integer]...\n",
      "Querying relation between [http://yago-knowledge.org/resource/Art_museum]and [Integer]...\n",
      "Querying relation between [Text]and [Integer]...\n",
      "\n",
      "Relations trouvées pour (2, 10) :\n",
      "Querying relation between [DateTime]and [Text]...\n",
      "\n",
      "Relations trouvées pour (3, 4) :\n",
      "Querying relation between [DateTime]and [Language]...\n",
      "\n",
      "Relations trouvées pour (3, 5) :\n",
      "Querying relation between [DateTime]and [email]...\n",
      "\n",
      "Relations trouvées pour (3, 6) :\n",
      "Querying relation between [DateTime]and [telephone]...\n",
      "\n",
      "Relations trouvées pour (3, 7) :\n",
      "Querying relation between [DateTime]and [Hotel]...\n",
      "\n",
      "Relations trouvées pour (3, 8) :\n",
      "Querying relation between [DateTime]and [Hotel]...\n",
      "\n",
      "Relations trouvées pour (3, 9) :\n",
      "Querying relation between [DateTime]and [Integer]...\n",
      "\n",
      "Relations trouvées pour (3, 10) :\n",
      "Querying relation between [Text]and [Language]...\n",
      "\n",
      "Relations trouvées pour (4, 5) :\n",
      "Querying relation between [Text]and [email]...\n",
      "\n",
      "Relations trouvées pour (4, 6) :\n",
      "Querying relation between [Text]and [telephone]...\n",
      "\n",
      "Relations trouvées pour (4, 7) :\n",
      "Querying relation between [Text]and [Hotel]...\n",
      "\n",
      "Relations trouvées pour (4, 8) :\n",
      "Querying relation between [Text]and [Hotel]...\n",
      "\n",
      "Relations trouvées pour (4, 9) :\n",
      "Querying relation between [Text]and [Integer]...\n",
      "\n",
      "Relations trouvées pour (4, 10) :\n",
      "Querying relation between [Language]and [email]...\n",
      "\n",
      "Relations trouvées pour (5, 6) :\n",
      "Querying relation between [Language]and [telephone]...\n",
      "\n",
      "Relations trouvées pour (5, 7) :\n",
      "Querying relation between [Language]and [Hotel]...\n",
      "\n",
      "Relations trouvées pour (5, 8) :\n",
      "Querying relation between [Language]and [Hotel]...\n",
      "\n",
      "Relations trouvées pour (5, 9) :\n",
      "Querying relation between [Language]and [Integer]...\n",
      "\n",
      "Relations trouvées pour (5, 10) :\n",
      "Querying relation between [email]and [telephone]...\n",
      "\n",
      "Relations trouvées pour (6, 7) :\n",
      "Querying relation between [email]and [Hotel]...\n",
      "\n",
      "Relations trouvées pour (6, 8) :\n",
      "Querying relation between [email]and [Hotel]...\n",
      "\n",
      "Relations trouvées pour (6, 9) :\n",
      "Querying relation between [email]and [Integer]...\n",
      "\n",
      "Relations trouvées pour (6, 10) :\n",
      "Querying relation between [telephone]and [Hotel]...\n",
      "\n",
      "Relations trouvées pour (7, 8) :\n",
      "Querying relation between [telephone]and [Hotel]...\n",
      "\n",
      "Relations trouvées pour (7, 9) :\n",
      "Querying relation between [telephone]and [Integer]...\n",
      "\n",
      "Relations trouvées pour (7, 10) :\n",
      "Querying relation between [Hotel]and [Hotel]...\n",
      "\n",
      "Relations trouvées pour (8, 9) :\n",
      "Querying relation between [Hotel]and [Integer]...\n",
      "\n",
      "Relations trouvées pour (8, 10) :\n",
      "Querying relation between [Hotel]and [Integer]...\n",
      "\n",
      "Relations trouvées pour (9, 10) :\n"
     ]
    }
   ],
   "source": [
    "relation_entre_types=Annotate.get_relations_between_types_with_KB(types_final)"
   ]
  },
  {
   "cell_type": "code",
   "execution_count": 18,
   "metadata": {},
   "outputs": [
    {
     "data": {
      "text/plain": [
       "{(0, 1): {},\n",
       " (0,\n",
       "  2): {'http://schema.org/location': {'count': 3,\n",
       "   'type_pairs': {('http://yago-knowledge.org/resource/Art_gallery',\n",
       "     'http://yago-knowledge.org/resource/Art_museum'),\n",
       "    ('http://yago-knowledge.org/resource/Art_museum',\n",
       "     'http://yago-knowledge.org/resource/Art_gallery'),\n",
       "    ('http://yago-knowledge.org/resource/Art_museum',\n",
       "     'http://yago-knowledge.org/resource/Art_museum')},\n",
       "   'proba': 0.75}, 'http://schema.org/ownedBy': {'count': 1,\n",
       "   'type_pairs': {('http://yago-knowledge.org/resource/Art_museum',\n",
       "     'http://yago-knowledge.org/resource/Art_museum')},\n",
       "   'proba': 0.25}},\n",
       " (0, 3): {},\n",
       " (0, 4): {},\n",
       " (0, 5): {},\n",
       " (0, 6): {},\n",
       " (0, 7): {},\n",
       " (0, 8): {},\n",
       " (0, 9): {},\n",
       " (0, 10): {},\n",
       " (1, 2): {},\n",
       " (1, 3): {},\n",
       " (1, 4): {},\n",
       " (1, 5): {},\n",
       " (1, 6): {},\n",
       " (1, 7): {},\n",
       " (1, 8): {},\n",
       " (1, 9): {},\n",
       " (1, 10): {},\n",
       " (2, 3): {},\n",
       " (2, 4): {},\n",
       " (2, 5): {},\n",
       " (2, 6): {},\n",
       " (2, 7): {},\n",
       " (2, 8): {},\n",
       " (2, 9): {},\n",
       " (2, 10): {},\n",
       " (3, 4): {},\n",
       " (3, 5): {},\n",
       " (3, 6): {},\n",
       " (3, 7): {},\n",
       " (3, 8): {},\n",
       " (3, 9): {},\n",
       " (3, 10): {},\n",
       " (4, 5): {},\n",
       " (4, 6): {},\n",
       " (4, 7): {},\n",
       " (4, 8): {},\n",
       " (4, 9): {},\n",
       " (4, 10): {},\n",
       " (5, 6): {},\n",
       " (5, 7): {},\n",
       " (5, 8): {},\n",
       " (5, 9): {},\n",
       " (5, 10): {},\n",
       " (6, 7): {},\n",
       " (6, 8): {},\n",
       " (6, 9): {},\n",
       " (6, 10): {},\n",
       " (7, 8): {},\n",
       " (7, 9): {},\n",
       " (7, 10): {},\n",
       " (8, 9): {},\n",
       " (8, 10): {},\n",
       " (9, 10): {}}"
      ]
     },
     "execution_count": 18,
     "metadata": {},
     "output_type": "execute_result"
    }
   ],
   "source": [
    "relation_entre_types"
   ]
  },
  {
   "cell_type": "markdown",
   "metadata": {},
   "source": [
    "4) Merging CPA"
   ]
  },
  {
   "cell_type": "code",
   "execution_count": 19,
   "metadata": {},
   "outputs": [],
   "source": [
    "merged_relations = Annotate.merge_relations(df,LM_relationships, KB_relationships, relation_entre_types)"
   ]
  },
  {
   "cell_type": "code",
   "execution_count": 20,
   "metadata": {},
   "outputs": [
    {
     "name": "stdout",
     "output_type": "stream",
     "text": [
      "\n",
      "Column pair: (0, 1)\n",
      "releasedate, prob :0.9923, sources :LM\n",
      "\n",
      "Column pair: (0, 2)\n",
      "headline, prob :0.9923, sources :LM\n",
      "location, prob :0.7500, sources :KB_entretypes\n",
      "ownedby, prob :0.2500, sources :KB_entretypes\n",
      "\n",
      "Column pair: (0, 3)\n",
      "releasedate, prob :0.5015, sources :LM\n",
      "\n",
      "Column pair: (0, 4)\n",
      "description, prob :0.9978, sources :LM\n",
      "\n",
      "Column pair: (0, 5)\n",
      "inlanguage, prob :0.9985, sources :LM\n",
      "\n",
      "Column pair: (0, 6)\n",
      "email, prob :0.9999, sources :LM\n",
      "\n",
      "Column pair: (0, 7)\n",
      "telephone, prob :0.9999, sources :LM\n",
      "\n",
      "Column pair: (0, 8)\n",
      "brand, prob :0.9992, sources :LM\n",
      "\n",
      "Column pair: (0, 9)\n",
      "brand, prob :0.9992, sources :LM\n",
      "\n",
      "Column pair: (0, 10)\n",
      "copyrightyear, prob :0.6774, sources :LM\n"
     ]
    }
   ],
   "source": [
    "for (col1_idx, col2_idx), relations in merged_relations.items():\n",
    "    print(f\"\\nColumn pair: ({col1_idx}, {col2_idx})\")\n",
    "    for relation, data in relations.items():\n",
    "        prob = data['probability']\n",
    "        sources = ', '.join(data['sources'])\n",
    "        print(f\"{relation}, prob :{prob:.4f}, sources :{sources}\")\n",
    "    "
   ]
  },
  {
   "cell_type": "code",
   "execution_count": 21,
   "metadata": {},
   "outputs": [
    {
     "data": {
      "text/plain": [
       "defaultdict(dict,\n",
       "            {(0,\n",
       "              1): {'releasedate': {'probability': 0.99231416,\n",
       "               'sources': ['LM'],\n",
       "               'individual_probabilities': [0.9923141598701477],\n",
       "               'original_names': ['releaseDate']}},\n",
       "             (0,\n",
       "              2): {'headline': {'probability': 0.992307,\n",
       "               'sources': ['LM'],\n",
       "               'individual_probabilities': [0.9923070073127747],\n",
       "               'original_names': ['headline']}, 'location': {'probability': 0.75,\n",
       "               'sources': ['KB_entretypes'],\n",
       "               'individual_probabilities': [0.75, 0.75, 0.75],\n",
       "               'original_names': ['http://schema.org/location (http://yago-knowledge.org/resource/Art_museum -> http://yago-knowledge.org/resource/Art_gallery)',\n",
       "                'http://schema.org/location (http://yago-knowledge.org/resource/Art_gallery -> http://yago-knowledge.org/resource/Art_museum)',\n",
       "                'http://schema.org/location (http://yago-knowledge.org/resource/Art_museum -> http://yago-knowledge.org/resource/Art_museum)']}, 'ownedby': {'probability': 0.25,\n",
       "               'sources': ['KB_entretypes'],\n",
       "               'individual_probabilities': [0.25],\n",
       "               'original_names': ['http://schema.org/ownedBy (http://yago-knowledge.org/resource/Art_museum -> http://yago-knowledge.org/resource/Art_museum)']}},\n",
       "             (0,\n",
       "              3): {'releasedate': {'probability': 0.5015146,\n",
       "               'sources': ['LM'],\n",
       "               'individual_probabilities': [0.5015146136283875],\n",
       "               'original_names': ['releaseDate']}},\n",
       "             (0,\n",
       "              4): {'description': {'probability': 0.99784076,\n",
       "               'sources': ['LM'],\n",
       "               'individual_probabilities': [0.9978407621383667],\n",
       "               'original_names': ['description']}},\n",
       "             (0,\n",
       "              5): {'inlanguage': {'probability': 0.99853206,\n",
       "               'sources': ['LM'],\n",
       "               'individual_probabilities': [0.9985320568084717],\n",
       "               'original_names': ['inLanguage']}},\n",
       "             (0,\n",
       "              6): {'email': {'probability': 0.9998698,\n",
       "               'sources': ['LM'],\n",
       "               'individual_probabilities': [0.9998698234558105],\n",
       "               'original_names': ['email']}},\n",
       "             (0,\n",
       "              7): {'telephone': {'probability': 0.99989283,\n",
       "               'sources': ['LM'],\n",
       "               'individual_probabilities': [0.9998928308486938],\n",
       "               'original_names': ['telephone']}},\n",
       "             (0,\n",
       "              8): {'brand': {'probability': 0.99916065,\n",
       "               'sources': ['LM'],\n",
       "               'individual_probabilities': [0.999160647392273],\n",
       "               'original_names': ['brand']}},\n",
       "             (0,\n",
       "              9): {'brand': {'probability': 0.99916065,\n",
       "               'sources': ['LM'],\n",
       "               'individual_probabilities': [0.999160647392273],\n",
       "               'original_names': ['brand']}},\n",
       "             (0,\n",
       "              10): {'copyrightyear': {'probability': 0.6773884,\n",
       "               'sources': ['LM'],\n",
       "               'individual_probabilities': [0.6773884296417236],\n",
       "               'original_names': ['copyrightYear']}}})"
      ]
     },
     "execution_count": 21,
     "metadata": {},
     "output_type": "execute_result"
    }
   ],
   "source": [
    "merged_relations"
   ]
  },
  {
   "cell_type": "markdown",
   "metadata": {},
   "source": [
    "Building the annotation graph in RDF\n",
    "\n",
    "the code generate a turtle file that you can visualize it in any rdf tool like : isSemantic.net "
   ]
  },
  {
   "cell_type": "code",
   "execution_count": 22,
   "metadata": {},
   "outputs": [
    {
     "name": "stdout",
     "output_type": "stream",
     "text": [
      "@prefix ns1: <http://schema.org/> .\n",
      "\n",
      "<:col0> a <Text>,\n",
      "        <http://yago-knowledge.org/resource/Art_gallery>,\n",
      "        <http://yago-knowledge.org/resource/Art_museum>,\n",
      "        <http://yago-knowledge.org/resource/Memory_institution> ;\n",
      "    ns1:brand <:col8>,\n",
      "        <:col9> ;\n",
      "    ns1:copyrightyear <:col10> ;\n",
      "    ns1:description <:col4> ;\n",
      "    ns1:email <:col6> ;\n",
      "    ns1:headline <:col2> ;\n",
      "    ns1:inlanguage <:col5> ;\n",
      "    ns1:location <:col2> ;\n",
      "    ns1:ownedby <:col2> ;\n",
      "    ns1:releasedate <:col1>,\n",
      "        <:col3> ;\n",
      "    ns1:telephone <:col7> .\n",
      "\n",
      "<:col1> a <DateTime> .\n",
      "\n",
      "<:col10> a <Integer> .\n",
      "\n",
      "<:col3> a <DateTime> .\n",
      "\n",
      "<:col4> a <Text> .\n",
      "\n",
      "<:col5> a <Language> .\n",
      "\n",
      "<:col6> a <email> .\n",
      "\n",
      "<:col7> a <telephone> .\n",
      "\n",
      "<:col8> a <Hotel> .\n",
      "\n",
      "<:col9> a <Hotel> .\n",
      "\n",
      "<:col2> a <Text>,\n",
      "        <http://yago-knowledge.org/resource/Art_gallery>,\n",
      "        <http://yago-knowledge.org/resource/Art_museum>,\n",
      "        <http://yago-knowledge.org/resource/Memory_institution> .\n",
      "\n",
      "\n"
     ]
    }
   ],
   "source": [
    "from rdflib import Graph, Literal, URIRef, Namespace\n",
    "from rdflib.namespace import RDF, RDFS, XSD\n",
    "\n",
    "# Création du graphe RDF\n",
    "g = Graph()\n",
    "\n",
    "# Définition des namespaces\n",
    "SCHEMA = Namespace(\"http://schema.org/\")\n",
    "YAGO = Namespace(\"http://yago-knowledge.org/resource/\")\n",
    "\n",
    "\n",
    "# Fonction pour ajouter les types sémantiques dans le graphe\n",
    "def add_column_types(annotation, g):\n",
    "    for column, types in annotation.items():\n",
    "        column_uri = URIRef(f\":col{column}\")\n",
    "        for type_uri in types:\n",
    "            g.add((column_uri, RDF.type, URIRef(type_uri)))\n",
    "            # g.add((column_uri, RDFS.label, Literal(column)))  # Ajouter le nom de la colonne\n",
    "    return g\n",
    "\n",
    "# Fonction pour ajouter les relations avec leurs métadonnées\n",
    "def add_relations(annotation, g):\n",
    "    for (col1_idx, col2_idx), relations in annotation.items():\n",
    "        col1_uri = URIRef(f\":col{col1_idx}\")\n",
    "        col2_uri = URIRef(f\":col{col2_idx}\")\n",
    "        \n",
    "        for relation, details in relations.items():\n",
    "            relation_uri = URIRef(SCHEMA[relation])  # Exemple: http://schema.org/about\n",
    "            \n",
    "            # Ajouter la relation principale entre les colonnes\n",
    "            g.add((col1_uri, relation_uri, col2_uri))\n",
    "            \n",
    "            # # Ajouter les métadonnées : probabilité, sources, original names\n",
    "            # for key, value in details.items():\n",
    "            #     if key == 'probability':\n",
    "            #         g.add((col1_uri, URIRef(f\"{relation_uri}#probability\"), Literal(value, datatype=XSD.float)))\n",
    "            #     elif key == 'sources':\n",
    "            #         for source in value:\n",
    "            #             g.add((col1_uri, URIRef(f\"{relation_uri}#source\"), Literal(source)))\n",
    "            #     elif key == 'original_names':\n",
    "            #         for orig_name in value:\n",
    "            #             g.add((col1_uri, URIRef(f\"{relation_uri}#originalName\"), Literal(orig_name)))\n",
    "    return g\n",
    "\n",
    "# Ajouter les types sémantiques et relations\n",
    "g = add_column_types(types_final, g)\n",
    "g = add_relations(merged_relations, g)\n",
    "\n",
    "\n",
    "# Affichage directement dans la console\n",
    "print(g.serialize(format=\"turtle\"))\n"
   ]
  },
  {
   "cell_type": "code",
   "execution_count": 24,
   "metadata": {},
   "outputs": [
    {
     "name": "stdout",
     "output_type": "stream",
     "text": [
      "@prefix ex: <http://example.org/> .\n",
      "@prefix schema1: <http://schema.org/> .\n",
      "@prefix xsd: <http://www.w3.org/2001/XMLSchema#> .\n",
      "@prefix yago: <http://yago-knowledge.org/resource/> .\n",
      "\n",
      "ex:col0 a <Text>,\n",
      "        yago:Art_gallery,\n",
      "        yago:Art_museum,\n",
      "        yago:Memory_institution ;\n",
      "    ex:in_ [ a schema1:email ;\n",
      "            ex:out ex:col6 ;\n",
      "            ex:probability \"0.9998698\"^^xsd:float ],\n",
      "        [ a schema1:headline ;\n",
      "            ex:out ex:col2 ;\n",
      "            ex:probability \"0.992307\"^^xsd:float ],\n",
      "        [ a schema1:inlanguage ;\n",
      "            ex:out ex:col5 ;\n",
      "            ex:probability \"0.99853206\"^^xsd:float ],\n",
      "        [ a schema1:copyrightyear ;\n",
      "            ex:out ex:col10 ;\n",
      "            ex:probability \"0.6773884\"^^xsd:float ],\n",
      "        [ a schema1:description ;\n",
      "            ex:out ex:col4 ;\n",
      "            ex:probability \"0.99784076\"^^xsd:float ],\n",
      "        [ a schema1:telephone ;\n",
      "            ex:out ex:col7 ;\n",
      "            ex:probability \"0.99989283\"^^xsd:float ],\n",
      "        [ a schema1:ownedby ;\n",
      "            ex:out ex:col2 ;\n",
      "            ex:probability \"0.25\"^^xsd:float ],\n",
      "        [ a schema1:releasedate ;\n",
      "            ex:out ex:col3 ;\n",
      "            ex:probability \"0.5015146\"^^xsd:float ],\n",
      "        [ a schema1:brand ;\n",
      "            ex:out ex:col8 ;\n",
      "            ex:probability \"0.99916065\"^^xsd:float ],\n",
      "        [ a schema1:releasedate ;\n",
      "            ex:out ex:col1 ;\n",
      "            ex:probability \"0.99231416\"^^xsd:float ],\n",
      "        [ a schema1:location ;\n",
      "            ex:out ex:col2 ;\n",
      "            ex:probability \"0.75\"^^xsd:float ],\n",
      "        [ a schema1:brand ;\n",
      "            ex:out ex:col9 ;\n",
      "            ex:probability \"0.99916065\"^^xsd:float ] .\n",
      "\n",
      "ex:col1 a <DateTime> .\n",
      "\n",
      "ex:col10 a <Integer> .\n",
      "\n",
      "ex:col3 a <DateTime> .\n",
      "\n",
      "ex:col4 a <Text> .\n",
      "\n",
      "ex:col5 a <Language> .\n",
      "\n",
      "ex:col6 a <email> .\n",
      "\n",
      "ex:col7 a <telephone> .\n",
      "\n",
      "ex:col8 a <Hotel> .\n",
      "\n",
      "ex:col9 a <Hotel> .\n",
      "\n",
      "ex:col2 a <Text>,\n",
      "        yago:Art_gallery,\n",
      "        yago:Art_museum,\n",
      "        yago:Memory_institution .\n",
      "\n",
      "\n"
     ]
    }
   ],
   "source": [
    "from rdflib import Graph, Literal, URIRef, BNode, Namespace\n",
    "from rdflib.namespace import RDF, RDFS, XSD\n",
    "\n",
    "# Création du graphe RDF\n",
    "g = Graph()\n",
    "\n",
    "# Namespaces\n",
    "SCHEMA = Namespace(\"http://schema.org/\")\n",
    "YAGO = Namespace(\"http://yago-knowledge.org/resource/\")\n",
    "EX = Namespace(\"http://example.org/\")\n",
    "g.bind(\"schema\", SCHEMA)\n",
    "g.bind(\"yago\", YAGO)\n",
    "g.bind(\"ex\", EX)\n",
    "\n",
    "def add_column_types(annotation, g):\n",
    "    for column, types in annotation.items():\n",
    "        column_uri = URIRef(f\"http://example.org/col{column}\")\n",
    "        for type_uri in types:\n",
    "            g.add((column_uri, RDF.type, URIRef(type_uri)))\n",
    "    return g\n",
    "\n",
    "def add_relations(annotation, g):\n",
    "    for (col1_idx, col2_idx), relations in annotation.items():\n",
    "        col1_uri = URIRef(f\"http://example.org/col{col1_idx}\")\n",
    "        col2_uri = URIRef(f\"http://example.org/col{col2_idx}\")\n",
    "        \n",
    "        for relation, details in relations.items():\n",
    "            relation_uri = URIRef(SCHEMA[relation])  # e.g., http://schema.org/about\n",
    "            \n",
    "            # Création du blank node représentant l'instance de la relation\n",
    "            rel_instance = BNode()\n",
    "            \n",
    "            # Ajout des liens in / out\n",
    "            g.add((col1_uri, EX.in_, rel_instance))\n",
    "            g.add((rel_instance, EX.out, col2_uri))\n",
    "            \n",
    "            # Ajout du type de la relation\n",
    "            g.add((rel_instance, RDF.type, relation_uri))\n",
    "            \n",
    "            # Ajout des métadonnées\n",
    "            if 'probability' in details:\n",
    "                g.add((rel_instance, EX.probability, Literal(details['probability'], datatype=XSD.float)))\n",
    "            # Tu peux aussi réactiver d’autres métadonnées ici si besoin :\n",
    "            # if 'sources' in details:\n",
    "            #     for source in details['sources']:\n",
    "            #         g.add((rel_instance, EX.source, Literal(source)))\n",
    "            # if 'original_names' in details:\n",
    "            #     for name in details['original_names']:\n",
    "            #         g.add((rel_instance, EX.originalName, Literal(name)))\n",
    "    return g\n",
    "\n",
    "\n",
    "\n",
    "# Construction du graphe\n",
    "g = add_column_types(types_final, g)\n",
    "g = add_relations(merged_relations, g)\n",
    "\n",
    "# Affichage Turtle\n",
    "print(g.serialize(format=\"turtle\"))\n",
    "\n"
   ]
  },
  {
   "cell_type": "markdown",
   "metadata": {},
   "source": [
    "<!-- Pour visualiser le graphe pour une seule colonne -->"
   ]
  }
 ],
 "metadata": {
  "kernelspec": {
   "display_name": "Python 3",
   "language": "python",
   "name": "python3"
  },
  "language_info": {
   "codemirror_mode": {
    "name": "ipython",
    "version": 3
   },
   "file_extension": ".py",
   "mimetype": "text/x-python",
   "name": "python",
   "nbconvert_exporter": "python",
   "pygments_lexer": "ipython3",
   "version": "3.10.10"
  }
 },
 "nbformat": 4,
 "nbformat_minor": 2
}
