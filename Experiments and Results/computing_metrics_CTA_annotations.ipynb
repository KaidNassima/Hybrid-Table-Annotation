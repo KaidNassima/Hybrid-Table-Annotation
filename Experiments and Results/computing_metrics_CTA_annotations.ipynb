{
 "cells": [
  {
   "cell_type": "code",
   "execution_count": null,
   "id": "f90d67dd",
   "metadata": {},
   "outputs": [],
   "source": [
    "import pandas as pd\n",
    "\n",
    "# Charger le fichier Excel\n",
    "df = pd.read_excel(\"path to Artifacts/Experiments and Results/Annotation_evaluation/manual_evaluation_cta/annotation.xlsx\")  # remplace par ton vrai nom de fichier\n",
    "\n",
    "\n"
   ]
  },
  {
   "cell_type": "code",
   "execution_count": null,
   "id": "e0632e69",
   "metadata": {},
   "outputs": [],
   "source": [
    "df"
   ]
  },
  {
   "cell_type": "code",
   "execution_count": null,
   "id": "ed5ffb5d",
   "metadata": {},
   "outputs": [],
   "source": [
    "def compute_metrics(column):\n",
    "    total = df[column].notna().sum()\n",
    "    exact = (df[column] == \"match exact\").sum()\n",
    "    specific = (df[column] == \"spécifique\").sum()\n",
    "    generic = (df[column] == \"générique\").sum()\n",
    "\n",
    "    return {\n",
    "        \"total\": total,\n",
    "        \"match_exact\": exact,\n",
    "        \"spécifique\": specific,\n",
    "        \"générique\": generic,\n",
    "        \"prop_spécifique\": specific / total if total else 0,\n",
    "        \"prop_générique\": generic / total if total else 0,\n",
    "        \"précision\": (exact + specific + generic) / total if total else 0,\n",
    "    }\n",
    "\n",
    "hybride_stats = compute_metrics(\"Remarque\")       # colonne D\n",
    "doduo_stats = compute_metrics(\"Remarque.1\")       # colonne G\n",
    "\n",
    "print(\"Hybride:\", hybride_stats)\n",
    "print(\"Doduo:\", doduo_stats)"
   ]
  },
  {
   "cell_type": "code",
   "execution_count": null,
   "id": "302238d0",
   "metadata": {},
   "outputs": [],
   "source": [
    "import pandas as pd\n",
    "\n",
    "def compute_metrics(df, col_colname, annotation, col_remarque, levels=[\"match exact\", \"spécifique\", \"générique\"]):\n",
    "    \"\"\"\n",
    "    Calcule précision, rappel, F1-score pour chaque niveau de granularité :\n",
    "    - exact seulement\n",
    "    - exact + spécifique\n",
    "    - exact + spécifique + générique\n",
    "    \"\"\"\n",
    "\n",
    "    results = []\n",
    "    all_columns = df[col_colname].notna().sum()\n",
    "    total_cols = all_columns\n",
    "    print(f\"Total de colonnes : {total_cols}\")\n",
    "    total_preds = df[annotation].notna().sum()\n",
    "    print(f\"Total de prédictions : {total_preds}\")\n",
    "\n",
    "    for i in range(1, len(levels)+1):\n",
    "        allowed = set(levels[:i])\n",
    "        label = \"+\".join(levels[:i])\n",
    "\n",
    "        # Précision : proportion de bonnes prédictions parmi toutes\n",
    "        true_positive_preds = df[df[col_remarque].isin(allowed)]\n",
    "        precision = len(true_positive_preds) / total_preds if total_preds else 0\n",
    "\n",
    "        # Rappel : nombre de colonnes avec au moins une bonne prédiction\n",
    "        true_positive_cols = true_positive_preds[col_colname].notna().sum()\n",
    "        recall = true_positive_cols / total_cols if total_cols else 0\n",
    "\n",
    "        # F1-score\n",
    "        f1 = 2 * precision * recall / (precision + recall) if (precision + recall) else 0\n",
    "\n",
    "        # Bruit : nb moyen de mauvaises annotations par colonne bien annotée\n",
    "        bad_preds = df[~df[col_remarque].isin(allowed)]\n",
    "        bad_per_tp_col = len(bad_preds) / true_positive_cols if true_positive_cols else 0\n",
    "\n",
    "        results.append({\n",
    "            \"Granularité\": label,\n",
    "            \"Précision\": round(precision, 3),\n",
    "            \"Rappel\": round(recall, 3),\n",
    "            \"F1-score\": round(f1, 3),\n",
    "            \"Colonnes bien annotées\": true_positive_cols,\n",
    "            \"Annotations incorrectes / col ok\": round(bad_per_tp_col, 2)\n",
    "        })\n",
    "\n",
    "    return pd.DataFrame(results)\n",
    "\n",
    "\n",
    "\n"
   ]
  },
  {
   "cell_type": "code",
   "execution_count": null,
   "id": "591b107e",
   "metadata": {},
   "outputs": [],
   "source": [
    "compute_metrics(df, col_colname=\"nom colonne\",annotation='annotation hybride', col_remarque=\"Remarque\")       # Pour l'hybride\n"
   ]
  },
  {
   "cell_type": "code",
   "execution_count": null,
   "id": "382394df",
   "metadata": {},
   "outputs": [],
   "source": [
    "compute_metrics(df, col_colname=\"nom colonne\",annotation='Annotation Doduo', col_remarque=\"Remarque.1\")     # Pour Doduo\n"
   ]
  },
  {
   "cell_type": "code",
   "execution_count": null,
   "id": "fb8a1c89",
   "metadata": {},
   "outputs": [],
   "source": [
    "import pandas as pd\n",
    "\n",
    "def recall_by_annotation_quality(df, col_colname, col_remarque, seuils=[0.0, 0.25, 0.5, 0.75, 1.0], bon_labels = {\"match exact\", \"spécifique\", \"générique\"}):\n",
    "    \"\"\"\n",
    "    Calcule, pour différents seuils de qualité, le rappel (colonnes bien annotées / colonnes totales).\n",
    "    \n",
    "    Une colonne est \"bien annotée\" si :\n",
    "    (nombre d'annotations correctes / total annotations) >= seuil\n",
    "    \"\"\"\n",
    "    results = []\n",
    "    \n",
    "    total_cols = df[col_colname].notna().sum()\n",
    "    print(f\"Nombre total de colonnes évaluées : {total_cols}\")\n",
    "\n",
    "    # Regrouper les annotations par colonne\n",
    "    grouped = df.groupby(col_colname)\n",
    "\n",
    "    for seuil in seuils:\n",
    "        good_cols = 0\n",
    "        \n",
    "        for col_colname, group in grouped:\n",
    "            total_annots = len(group)\n",
    "            good_annots = (group[col_remarque].isin(bon_labels)).sum()\n",
    "            \n",
    "            proportion = good_annots / total_annots if total_annots else 0\n",
    "            \n",
    "            if proportion >= seuil:\n",
    "                good_cols += 1\n",
    "\n",
    "        recall = good_cols / total_cols if total_cols else 0\n",
    "\n",
    "        results.append({\n",
    "            \"Seuil annotations correctes (%)\": int(seuil * 100),\n",
    "            \"Colonnes bien annotées\": good_cols,\n",
    "            \"Rappel (colonne)\": round(recall, 3)\n",
    "        })\n",
    "\n",
    "    return pd.DataFrame(results)\n"
   ]
  }
 ],
 "metadata": {
  "kernelspec": {
   "display_name": "Python 3",
   "language": "python",
   "name": "python3"
  },
  "language_info": {
   "codemirror_mode": {
    "name": "ipython",
    "version": 3
   },
   "file_extension": ".py",
   "mimetype": "text/x-python",
   "name": "python",
   "nbconvert_exporter": "python",
   "pygments_lexer": "ipython3",
   "version": "3.10.10"
  }
 },
 "nbformat": 4,
 "nbformat_minor": 5
}
